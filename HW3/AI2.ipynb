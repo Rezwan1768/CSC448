{
 "cells": [
  {
   "cell_type": "markdown",
   "id": "87f8b6e7",
   "metadata": {},
   "source": [
    "# List : 1D and 2D"
   ]
  },
  {
   "cell_type": "markdown",
   "id": "3b42bcf0",
   "metadata": {},
   "source": [
    "1D: $[element0, element1, element2]$  \n",
    "2D:$[[element00, element01, element02],  \n",
    "    [element10, element11, element12],  \n",
    "    [element20, element21, element22],  \n",
    "    [element30, element31, element32]] $"
   ]
  },
  {
   "cell_type": "code",
   "execution_count": 15,
   "id": "3f919b95",
   "metadata": {},
   "outputs": [],
   "source": [
    "lst1 = list()\n",
    "lst2 = []\n",
    "lst3 = [2, \"today\", (34,\"name\"), 5, 6.888]"
   ]
  },
  {
   "cell_type": "code",
   "execution_count": 16,
   "id": "d3f03f6d",
   "metadata": {},
   "outputs": [
    {
     "data": {
      "text/plain": [
       "'today'"
      ]
     },
     "execution_count": 16,
     "metadata": {},
     "output_type": "execute_result"
    }
   ],
   "source": [
    "lst3[1]"
   ]
  },
  {
   "cell_type": "code",
   "execution_count": 17,
   "id": "c5a4187d",
   "metadata": {},
   "outputs": [
    {
     "data": {
      "text/plain": [
       "[(34, 'name')]"
      ]
     },
     "execution_count": 17,
     "metadata": {},
     "output_type": "execute_result"
    }
   ],
   "source": [
    "lst3[2:3]"
   ]
  },
  {
   "cell_type": "code",
   "execution_count": 18,
   "id": "8d4615aa",
   "metadata": {},
   "outputs": [
    {
     "data": {
      "text/plain": [
       "[2, 'today']"
      ]
     },
     "execution_count": 18,
     "metadata": {},
     "output_type": "execute_result"
    }
   ],
   "source": [
    "lst3[:2]"
   ]
  },
  {
   "cell_type": "code",
   "execution_count": 19,
   "id": "13e29aa1",
   "metadata": {},
   "outputs": [
    {
     "data": {
      "text/plain": [
       "['today', (34, 'name'), 5, 6.888]"
      ]
     },
     "execution_count": 19,
     "metadata": {},
     "output_type": "execute_result"
    }
   ],
   "source": [
    "lst3[1:]"
   ]
  },
  {
   "cell_type": "code",
   "execution_count": 20,
   "id": "2d0e70f0",
   "metadata": {},
   "outputs": [
    {
     "data": {
      "text/plain": [
       "6.888"
      ]
     },
     "execution_count": 20,
     "metadata": {},
     "output_type": "execute_result"
    }
   ],
   "source": [
    "lst3[-1]"
   ]
  },
  {
   "cell_type": "code",
   "execution_count": 21,
   "id": "e8ea28a5",
   "metadata": {},
   "outputs": [
    {
     "data": {
      "text/plain": [
       "[2, 'today', (34, 'name'), 5, 6.888]"
      ]
     },
     "execution_count": 21,
     "metadata": {},
     "output_type": "execute_result"
    }
   ],
   "source": [
    "lst3[-5:]"
   ]
  },
  {
   "cell_type": "code",
   "execution_count": 22,
   "id": "cbff6ef8",
   "metadata": {},
   "outputs": [
    {
     "data": {
      "text/plain": [
       "0"
      ]
     },
     "execution_count": 22,
     "metadata": {},
     "output_type": "execute_result"
    }
   ],
   "source": [
    "len(lst1)"
   ]
  },
  {
   "cell_type": "code",
   "execution_count": 23,
   "id": "74c3417b",
   "metadata": {},
   "outputs": [
    {
     "data": {
      "text/plain": [
       "5"
      ]
     },
     "execution_count": 23,
     "metadata": {},
     "output_type": "execute_result"
    }
   ],
   "source": [
    "len(lst3)"
   ]
  },
  {
   "cell_type": "markdown",
   "id": "c3f12146",
   "metadata": {},
   "source": [
    "### list operations: sort, append, extend, pop, list(range())"
   ]
  },
  {
   "cell_type": "code",
   "execution_count": 25,
   "id": "338f67a5",
   "metadata": {},
   "outputs": [
    {
     "data": {
      "text/plain": [
       "['__add__',\n",
       " '__class__',\n",
       " '__class_getitem__',\n",
       " '__contains__',\n",
       " '__delattr__',\n",
       " '__delitem__',\n",
       " '__dir__',\n",
       " '__doc__',\n",
       " '__eq__',\n",
       " '__format__',\n",
       " '__ge__',\n",
       " '__getattribute__',\n",
       " '__getitem__',\n",
       " '__gt__',\n",
       " '__hash__',\n",
       " '__iadd__',\n",
       " '__imul__',\n",
       " '__init__',\n",
       " '__init_subclass__',\n",
       " '__iter__',\n",
       " '__le__',\n",
       " '__len__',\n",
       " '__lt__',\n",
       " '__mul__',\n",
       " '__ne__',\n",
       " '__new__',\n",
       " '__reduce__',\n",
       " '__reduce_ex__',\n",
       " '__repr__',\n",
       " '__reversed__',\n",
       " '__rmul__',\n",
       " '__setattr__',\n",
       " '__setitem__',\n",
       " '__sizeof__',\n",
       " '__str__',\n",
       " '__subclasshook__',\n",
       " 'append',\n",
       " 'clear',\n",
       " 'copy',\n",
       " 'count',\n",
       " 'extend',\n",
       " 'index',\n",
       " 'insert',\n",
       " 'pop',\n",
       " 'remove',\n",
       " 'reverse',\n",
       " 'sort']"
      ]
     },
     "execution_count": 25,
     "metadata": {},
     "output_type": "execute_result"
    }
   ],
   "source": [
    "dir(lst3)"
   ]
  },
  {
   "cell_type": "code",
   "execution_count": 26,
   "id": "e27cca3d",
   "metadata": {},
   "outputs": [
    {
     "ename": "TypeError",
     "evalue": "'<' not supported between instances of 'str' and 'int'",
     "output_type": "error",
     "traceback": [
      "\u001b[1;31m---------------------------------------------------------------------------\u001b[0m",
      "\u001b[1;31mTypeError\u001b[0m                                 Traceback (most recent call last)",
      "\u001b[1;32m~\\AppData\\Local\\Temp/ipykernel_23460/1056117272.py\u001b[0m in \u001b[0;36m<module>\u001b[1;34m\u001b[0m\n\u001b[1;32m----> 1\u001b[1;33m \u001b[0mlst3\u001b[0m\u001b[1;33m.\u001b[0m\u001b[0msort\u001b[0m\u001b[1;33m(\u001b[0m\u001b[1;33m)\u001b[0m\u001b[1;33m\u001b[0m\u001b[1;33m\u001b[0m\u001b[0m\n\u001b[0m",
      "\u001b[1;31mTypeError\u001b[0m: '<' not supported between instances of 'str' and 'int'"
     ]
    }
   ],
   "source": [
    "lst3.sort()    # only ok with string type and int"
   ]
  },
  {
   "cell_type": "code",
   "execution_count": 36,
   "id": "5615fd30",
   "metadata": {},
   "outputs": [],
   "source": [
    "lst = [2, 4, -1, 100, 5.8, -3.4]"
   ]
  },
  {
   "cell_type": "code",
   "execution_count": 37,
   "id": "2f56ead6",
   "metadata": {},
   "outputs": [],
   "source": [
    "lst.sort()   # in place sorting"
   ]
  },
  {
   "cell_type": "code",
   "execution_count": 38,
   "id": "e6c55935",
   "metadata": {},
   "outputs": [
    {
     "data": {
      "text/plain": [
       "[-3.4, -1, 2, 4, 5.8, 100]"
      ]
     },
     "execution_count": 38,
     "metadata": {},
     "output_type": "execute_result"
    }
   ],
   "source": [
    "lst"
   ]
  },
  {
   "cell_type": "code",
   "execution_count": 39,
   "id": "ce6093d0",
   "metadata": {},
   "outputs": [
    {
     "data": {
      "text/plain": [
       "[100, 5.8, 4, 2, -1, -3.4]"
      ]
     },
     "execution_count": 39,
     "metadata": {},
     "output_type": "execute_result"
    }
   ],
   "source": [
    "lst.reverse()\n",
    "lst"
   ]
  },
  {
   "cell_type": "code",
   "execution_count": null,
   "id": "ee5d6a5b",
   "metadata": {},
   "outputs": [],
   "source": []
  },
  {
   "cell_type": "code",
   "execution_count": 30,
   "id": "9504deb4",
   "metadata": {},
   "outputs": [],
   "source": [
    "lst = [\"Mon\", \"Wed\", \"Tue\", \"Sat\", \"Sun\", \"Fri\"]"
   ]
  },
  {
   "cell_type": "code",
   "execution_count": 31,
   "id": "188f4b78",
   "metadata": {},
   "outputs": [],
   "source": [
    "lst.sort()"
   ]
  },
  {
   "cell_type": "code",
   "execution_count": 32,
   "id": "87a02ed5",
   "metadata": {},
   "outputs": [
    {
     "data": {
      "text/plain": [
       "['Fri', 'Mon', 'Sat', 'Sun', 'Tue', 'Wed']"
      ]
     },
     "execution_count": 32,
     "metadata": {},
     "output_type": "execute_result"
    }
   ],
   "source": [
    "lst"
   ]
  },
  {
   "cell_type": "code",
   "execution_count": null,
   "id": "ee679564",
   "metadata": {},
   "outputs": [],
   "source": []
  },
  {
   "cell_type": "code",
   "execution_count": 40,
   "id": "c1c36bde",
   "metadata": {},
   "outputs": [],
   "source": [
    "lst = []"
   ]
  },
  {
   "cell_type": "code",
   "execution_count": 42,
   "id": "f1080c91",
   "metadata": {},
   "outputs": [
    {
     "data": {
      "text/plain": [
       "['Mon', 'Mon']"
      ]
     },
     "execution_count": 42,
     "metadata": {},
     "output_type": "execute_result"
    }
   ],
   "source": [
    "lst.append(\"Mon\")\n",
    "lst"
   ]
  },
  {
   "cell_type": "code",
   "execution_count": 43,
   "id": "1f3cf1f7",
   "metadata": {},
   "outputs": [],
   "source": [
    "lst.extend(\"Mon\")"
   ]
  },
  {
   "cell_type": "code",
   "execution_count": 44,
   "id": "427f3e9d",
   "metadata": {},
   "outputs": [
    {
     "data": {
      "text/plain": [
       "['Mon', 'Mon', 'M', 'o', 'n']"
      ]
     },
     "execution_count": 44,
     "metadata": {},
     "output_type": "execute_result"
    }
   ],
   "source": [
    "lst"
   ]
  },
  {
   "cell_type": "code",
   "execution_count": 45,
   "id": "b1603390",
   "metadata": {},
   "outputs": [
    {
     "name": "stdout",
     "output_type": "stream",
     "text": [
      "Mon ['Mon', 'M', 'o', 'n']\n"
     ]
    }
   ],
   "source": [
    "word = lst.pop(1)\n",
    "print(word, lst)"
   ]
  },
  {
   "cell_type": "code",
   "execution_count": 46,
   "id": "d86e9f7c",
   "metadata": {},
   "outputs": [
    {
     "data": {
      "text/plain": [
       "['Mon', 89, 'M', 'o', 'n']"
      ]
     },
     "execution_count": 46,
     "metadata": {},
     "output_type": "execute_result"
    }
   ],
   "source": [
    "lst.insert(1, 89)\n",
    "lst"
   ]
  },
  {
   "cell_type": "markdown",
   "id": "25f25865",
   "metadata": {},
   "source": [
    "<b>Question:   \n",
    "    append 1, 4, 9, 16, 25, 36, 49 to an empty list lst1  \n",
    "    extend 1, 4, 9, 16, 25, 36, 49 to an empty list lst2  \n",
    "    print out lst1 and lst2\n",
    "</b>"
   ]
  },
  {
   "cell_type": "code",
   "execution_count": null,
   "id": "129cb12c",
   "metadata": {},
   "outputs": [],
   "source": []
  },
  {
   "cell_type": "markdown",
   "id": "3a0ce268",
   "metadata": {},
   "source": [
    "<b>Question:   \n",
    "    append 1, 4, 9, 16, 25, 36, 49, ..., 10^2 to an empty list lst1  \n",
    "    extend 1, 4, 9, 16, 25, 36, 49, ..., 10^2 to an empty list lst2  \n",
    "    print out lst1 and lst2\n",
    "</b>"
   ]
  },
  {
   "cell_type": "code",
   "execution_count": null,
   "id": "b83b7ec3",
   "metadata": {},
   "outputs": [],
   "source": []
  },
  {
   "cell_type": "code",
   "execution_count": 33,
   "id": "3e699db7",
   "metadata": {},
   "outputs": [
    {
     "data": {
      "text/plain": [
       "[5, 7, 9, 11, 13, 15, 17, 19]"
      ]
     },
     "execution_count": 33,
     "metadata": {},
     "output_type": "execute_result"
    }
   ],
   "source": [
    "list(range(5, 20, 2))"
   ]
  },
  {
   "cell_type": "markdown",
   "id": "ccc3db88",
   "metadata": {},
   "source": [
    "<b>Question:   \n",
    "    Create a list named lst with elements from 2 to 10000"
   ]
  },
  {
   "cell_type": "code",
   "execution_count": null,
   "id": "6344ff14",
   "metadata": {},
   "outputs": [],
   "source": []
  },
  {
   "cell_type": "code",
   "execution_count": 34,
   "id": "c8e1a181",
   "metadata": {},
   "outputs": [
    {
     "name": "stdout",
     "output_type": "stream",
     "text": [
      "5\n",
      "7\n",
      "9\n",
      "11\n",
      "13\n",
      "15\n",
      "17\n",
      "19\n"
     ]
    }
   ],
   "source": [
    "for i in range(5, 20, 2):\n",
    "    print(i)"
   ]
  },
  {
   "cell_type": "markdown",
   "id": "cd258413",
   "metadata": {},
   "source": [
    "<b>Question:A list named lst with even numbers [2, 4, 6, 8, 10, 12, 14, ..., 100], write a for loop to print out these numbers one by one    </b>"
   ]
  },
  {
   "cell_type": "code",
   "execution_count": null,
   "id": "4e6b1834",
   "metadata": {},
   "outputs": [],
   "source": []
  },
  {
   "cell_type": "code",
   "execution_count": null,
   "id": "a69cfbd2",
   "metadata": {},
   "outputs": [],
   "source": []
  },
  {
   "cell_type": "code",
   "execution_count": 115,
   "id": "69bcd96e",
   "metadata": {},
   "outputs": [
    {
     "name": "stdout",
     "output_type": "stream",
     "text": [
      "[[0, 0, 0, 0, 0], [0, 0, 0, 0, 0], [0, 0, 0, 0, 0], [0, 0, 0, 0, 0], [0, 0, 0, 0, 0]]\n"
     ]
    }
   ],
   "source": [
    "rows, cols = (5, 5)\n",
    "arr = [[0]*cols]*rows\n",
    "print(arr)"
   ]
  },
  {
   "cell_type": "code",
   "execution_count": 116,
   "id": "752a603e",
   "metadata": {},
   "outputs": [
    {
     "name": "stdout",
     "output_type": "stream",
     "text": [
      "[[1, 0, 0, 0, 0], [1, 0, 0, 0, 0], [1, 0, 0, 0, 0], [1, 0, 0, 0, 0], [1, 0, 0, 0, 0]] after\n"
     ]
    }
   ],
   "source": [
    "arr[0][0] = 1 # update only one element\n",
    "print(arr, \"after\")"
   ]
  },
  {
   "cell_type": "code",
   "execution_count": null,
   "id": "14087055",
   "metadata": {},
   "outputs": [],
   "source": [
    "##############################################################################################"
   ]
  },
  {
   "cell_type": "code",
   "execution_count": 117,
   "id": "4408bda1",
   "metadata": {},
   "outputs": [
    {
     "name": "stdout",
     "output_type": "stream",
     "text": [
      "[[0, 0, 0, 0, 0], [0, 0, 0, 0, 0], [0, 0, 0, 0, 0], [0, 0, 0, 0, 0], [0, 0, 0, 0, 0]]\n"
     ]
    }
   ],
   "source": [
    "\n",
    "rows, cols = (5, 5)\n",
    "arr = [[0 for i in range(cols)] for j in range(rows)]\n",
    "print(arr)"
   ]
  },
  {
   "cell_type": "code",
   "execution_count": 118,
   "id": "cf3918c8",
   "metadata": {},
   "outputs": [
    {
     "name": "stdout",
     "output_type": "stream",
     "text": [
      "[[1, 0, 0, 0, 0], [0, 0, 0, 0, 0], [0, 0, 0, 0, 0], [0, 0, 0, 0, 0], [0, 0, 0, 0, 0]] after\n"
     ]
    }
   ],
   "source": [
    "arr[0][0] = 1 # update only one element\n",
    "print(arr, \"after\")"
   ]
  },
  {
   "cell_type": "markdown",
   "id": "c3bd0ad5",
   "metadata": {},
   "source": [
    "<b>Question:   \n",
    "    1) Create a new 2D list named lst2d and initialize elements from 1 to 6, dimention 2*3, like below   \n",
    "    1 2 3   \n",
    "    4 5 6  \n",
    "    2) multiply 2 to the elements in the 2nd row"
   ]
  },
  {
   "cell_type": "code",
   "execution_count": null,
   "id": "c45cc99f",
   "metadata": {},
   "outputs": [],
   "source": []
  },
  {
   "cell_type": "code",
   "execution_count": null,
   "id": "22a865c9",
   "metadata": {},
   "outputs": [],
   "source": []
  },
  {
   "cell_type": "code",
   "execution_count": null,
   "id": "8c8fe66e",
   "metadata": {},
   "outputs": [],
   "source": []
  },
  {
   "cell_type": "markdown",
   "id": "fc266ddc",
   "metadata": {},
   "source": [
    "# String: Operations"
   ]
  },
  {
   "cell_type": "markdown",
   "id": "f5223518",
   "metadata": {},
   "source": [
    "### string definition and index"
   ]
  },
  {
   "cell_type": "code",
   "execution_count": 1,
   "id": "682d5e8c",
   "metadata": {},
   "outputs": [
    {
     "name": "stdout",
     "output_type": "stream",
     "text": [
      "f\n",
      "g\n"
     ]
    }
   ],
   "source": [
    "class_name = 'Enfr10200_A Data Science and Statistical Approach to Programming'\n",
    "print(class_name[2])\n",
    "print(class_name[-1])\n"
   ]
  },
  {
   "cell_type": "code",
   "execution_count": 2,
   "id": "7fbeebcb",
   "metadata": {},
   "outputs": [
    {
     "data": {
      "text/plain": [
       "64"
      ]
     },
     "execution_count": 2,
     "metadata": {},
     "output_type": "execute_result"
    }
   ],
   "source": [
    "len(class_name)"
   ]
  },
  {
   "cell_type": "code",
   "execution_count": 4,
   "id": "a87fca72",
   "metadata": {},
   "outputs": [
    {
     "data": {
      "text/plain": [
       "1"
      ]
     },
     "execution_count": 4,
     "metadata": {},
     "output_type": "execute_result"
    }
   ],
   "source": [
    "len(\" \")"
   ]
  },
  {
   "cell_type": "markdown",
   "id": "aa0643e0",
   "metadata": {},
   "source": [
    "### string slicing"
   ]
  },
  {
   "cell_type": "code",
   "execution_count": 5,
   "id": "d0dee631",
   "metadata": {},
   "outputs": [
    {
     "name": "stdout",
     "output_type": "stream",
     "text": [
      "r10\n"
     ]
    }
   ],
   "source": [
    "print(class_name[3:6])   # string_name[start: end]"
   ]
  },
  {
   "cell_type": "code",
   "execution_count": 6,
   "id": "8282f538",
   "metadata": {},
   "outputs": [],
   "source": [
    "hello = \"hello  world!\""
   ]
  },
  {
   "cell_type": "code",
   "execution_count": 7,
   "id": "d37fa17e",
   "metadata": {},
   "outputs": [
    {
     "name": "stdout",
     "output_type": "stream",
     "text": [
      "ell\n"
     ]
    }
   ],
   "source": [
    "print(hello[1:4])"
   ]
  },
  {
   "cell_type": "code",
   "execution_count": 8,
   "id": "670df61b",
   "metadata": {},
   "outputs": [
    {
     "name": "stdout",
     "output_type": "stream",
     "text": [
      "  world!\n"
     ]
    }
   ],
   "source": [
    "print(hello[5:])"
   ]
  },
  {
   "cell_type": "code",
   "execution_count": 9,
   "id": "8f214d5d",
   "metadata": {},
   "outputs": [
    {
     "name": "stdout",
     "output_type": "stream",
     "text": [
      "hello \n"
     ]
    }
   ],
   "source": [
    "print(hello[:6])"
   ]
  },
  {
   "cell_type": "markdown",
   "id": "0bd3056c",
   "metadata": {},
   "source": [
    "<b> Question: print out the last 5 characters of string hello with slicing </b>"
   ]
  },
  {
   "cell_type": "code",
   "execution_count": 10,
   "id": "e83b490f",
   "metadata": {},
   "outputs": [
    {
     "name": "stdout",
     "output_type": "stream",
     "text": [
      "orld!\n"
     ]
    }
   ],
   "source": [
    "print(hello[-5:])"
   ]
  },
  {
   "cell_type": "code",
   "execution_count": null,
   "id": "c55374de",
   "metadata": {},
   "outputs": [],
   "source": []
  },
  {
   "cell_type": "code",
   "execution_count": 11,
   "id": "4d1d2bbc",
   "metadata": {},
   "outputs": [
    {
     "ename": "TypeError",
     "evalue": "'str' object does not support item assignment",
     "output_type": "error",
     "traceback": [
      "\u001b[1;31m---------------------------------------------------------------------------\u001b[0m",
      "\u001b[1;31mTypeError\u001b[0m                                 Traceback (most recent call last)",
      "\u001b[1;32m~\\AppData\\Local\\Temp/ipykernel_16368/2755713314.py\u001b[0m in \u001b[0;36m<module>\u001b[1;34m\u001b[0m\n\u001b[0;32m      1\u001b[0m \u001b[1;31m# 'str' object does not support item assignment\u001b[0m\u001b[1;33m\u001b[0m\u001b[1;33m\u001b[0m\u001b[0m\n\u001b[1;32m----> 2\u001b[1;33m \u001b[0mclass_name\u001b[0m\u001b[1;33m[\u001b[0m\u001b[1;36m2\u001b[0m\u001b[1;33m]\u001b[0m \u001b[1;33m=\u001b[0m \u001b[1;34m'g'\u001b[0m\u001b[1;33m\u001b[0m\u001b[1;33m\u001b[0m\u001b[0m\n\u001b[0m",
      "\u001b[1;31mTypeError\u001b[0m: 'str' object does not support item assignment"
     ]
    }
   ],
   "source": [
    "# 'str' object does not support item assignment\n",
    "class_name[2] = 'g'"
   ]
  },
  {
   "cell_type": "markdown",
   "id": "fa680581",
   "metadata": {},
   "source": [
    "### string operations"
   ]
  },
  {
   "cell_type": "code",
   "execution_count": 12,
   "id": "9ed6ed89",
   "metadata": {},
   "outputs": [],
   "source": [
    "s1 = \"hello\"\n",
    "s2 = \"world\""
   ]
  },
  {
   "cell_type": "code",
   "execution_count": 13,
   "id": "44e912e6",
   "metadata": {},
   "outputs": [
    {
     "data": {
      "text/plain": [
       "'helloworld'"
      ]
     },
     "execution_count": 13,
     "metadata": {},
     "output_type": "execute_result"
    }
   ],
   "source": [
    "s3 = s1 + s2\n",
    "s3"
   ]
  },
  {
   "cell_type": "code",
   "execution_count": 15,
   "id": "842f8aa3",
   "metadata": {},
   "outputs": [
    {
     "data": {
      "text/plain": [
       "'hellohellohellohellohellohellohellohellohellohellohellohellohellohellohellohellohellohellohellohellohellohellohellohellohellohellohellohellohellohellohellohellohellohellohellohellohellohellohellohellohellohellohellohellohellohellohellohellohellohellohellohellohellohellohellohellohellohellohellohellohellohellohellohellohellohellohellohellohellohellohellohellohellohellohellohellohellohellohellohellohellohellohellohellohellohellohellohellohellohellohellohellohellohellohellohellohellohellohellohello'"
      ]
     },
     "execution_count": 15,
     "metadata": {},
     "output_type": "execute_result"
    }
   ],
   "source": [
    "s1 * 100"
   ]
  },
  {
   "cell_type": "code",
   "execution_count": null,
   "id": "bb4f3f8e",
   "metadata": {},
   "outputs": [],
   "source": []
  },
  {
   "cell_type": "markdown",
   "id": "0bfd1a09",
   "metadata": {},
   "source": [
    "<b> Question: how to concatenate s1 and s2 which could print \"hello world\"? </b>"
   ]
  },
  {
   "cell_type": "code",
   "execution_count": 17,
   "id": "9ec50a03",
   "metadata": {},
   "outputs": [
    {
     "name": "stdout",
     "output_type": "stream",
     "text": [
      "hello world!\n"
     ]
    }
   ],
   "source": [
    "print(s1+\" \"+s2 +\"!\")"
   ]
  },
  {
   "cell_type": "code",
   "execution_count": 28,
   "id": "bf37a5ce",
   "metadata": {},
   "outputs": [],
   "source": [
    "s = \"output formatted strings use template        strings or the % operator in the Re module\""
   ]
  },
  {
   "cell_type": "code",
   "execution_count": 27,
   "id": "e83e3b0b",
   "metadata": {
    "scrolled": true
   },
   "outputs": [
    {
     "name": "stdout",
     "output_type": "stream",
     "text": [
      ",output formatted strings use template        strings or the % operator in the Re module            ,\n",
      "output formatted strings use template        strings or the % operator in the Re module            \n"
     ]
    }
   ],
   "source": [
    "s_new = s.strip(\",\")\n",
    "print(s)\n",
    "print(s_new)"
   ]
  },
  {
   "cell_type": "code",
   "execution_count": 29,
   "id": "71d4ebd9",
   "metadata": {},
   "outputs": [
    {
     "data": {
      "text/plain": [
       "['output',\n",
       " 'formatted',\n",
       " 'strings',\n",
       " 'use',\n",
       " 'template',\n",
       " 'strings',\n",
       " 'or',\n",
       " 'the',\n",
       " '%',\n",
       " 'operator',\n",
       " 'in',\n",
       " 'the',\n",
       " 'Re',\n",
       " 'module']"
      ]
     },
     "execution_count": 29,
     "metadata": {},
     "output_type": "execute_result"
    }
   ],
   "source": [
    "ret = s.split()\n",
    "ret"
   ]
  },
  {
   "cell_type": "markdown",
   "id": "b55f8688",
   "metadata": {},
   "source": [
    "### Question:  \n",
    "write a function named printwords, in the function you should remove the spaces in front and the end of the input string    \n",
    "input: a string  \n",
    "output: a list of words, which ia the result of the split of the input string"
   ]
  },
  {
   "cell_type": "code",
   "execution_count": 30,
   "id": "fa86b25c",
   "metadata": {},
   "outputs": [],
   "source": [
    "def printwords(s):\n",
    "    ret = s.strip().split()\n",
    "    return ret"
   ]
  },
  {
   "cell_type": "code",
   "execution_count": 32,
   "id": "cdd2770f",
   "metadata": {},
   "outputs": [
    {
     "name": "stdout",
     "output_type": "stream",
     "text": [
      "['theut', 'tet', 'yyey', 'yey']\n"
     ]
    }
   ],
   "source": [
    "ret = printwords(\" theut  tet yyey  yey     \")\n",
    "print(ret)"
   ]
  },
  {
   "cell_type": "code",
   "execution_count": null,
   "id": "b430d123",
   "metadata": {},
   "outputs": [],
   "source": []
  },
  {
   "cell_type": "code",
   "execution_count": null,
   "id": "fce77d28",
   "metadata": {},
   "outputs": [],
   "source": []
  },
  {
   "cell_type": "code",
   "execution_count": null,
   "id": "682f2a6a",
   "metadata": {},
   "outputs": [],
   "source": []
  },
  {
   "cell_type": "code",
   "execution_count": null,
   "id": "4f846ee0",
   "metadata": {},
   "outputs": [],
   "source": []
  },
  {
   "cell_type": "code",
   "execution_count": null,
   "id": "ce77f138",
   "metadata": {},
   "outputs": [],
   "source": []
  },
  {
   "cell_type": "code",
   "execution_count": null,
   "id": "95f53027",
   "metadata": {},
   "outputs": [],
   "source": [
    "ret = s.split()"
   ]
  },
  {
   "cell_type": "markdown",
   "id": "311b82f1",
   "metadata": {},
   "source": []
  },
  {
   "cell_type": "code",
   "execution_count": 62,
   "id": "5110928a",
   "metadata": {},
   "outputs": [],
   "source": [
    "new_s = s.replace(\"%\", \"*\")"
   ]
  },
  {
   "cell_type": "code",
   "execution_count": 65,
   "id": "e06612b2",
   "metadata": {},
   "outputs": [
    {
     "name": "stdout",
     "output_type": "stream",
     "text": [
      "  output formatted strings use template        strings or the % operator in the Re module            \n",
      "  output formatted strings use template        strings or the * operator in the Re module            \n"
     ]
    }
   ],
   "source": [
    "print(s)\n",
    "print(new_s)"
   ]
  },
  {
   "cell_type": "code",
   "execution_count": null,
   "id": "5bbf4100",
   "metadata": {},
   "outputs": [],
   "source": []
  },
  {
   "cell_type": "markdown",
   "id": "df353a52",
   "metadata": {},
   "source": [
    "<b> Question: Define a string with name d=\"    Today is Friday, now it is 2--00pm    \",  strip the front and end ends whitespaces and replace \"--\" to \":\" </b>"
   ]
  },
  {
   "cell_type": "code",
   "execution_count": null,
   "id": "542d1699",
   "metadata": {},
   "outputs": [],
   "source": []
  },
  {
   "cell_type": "markdown",
   "id": "2a297a78",
   "metadata": {},
   "source": [
    "<b> Question: Define a string with name d=\"Today is Friday, now it is 2:00pm\", separate the string into words based on spcaes, then append these words to an empty list named lst in a for loop </b>"
   ]
  },
  {
   "cell_type": "code",
   "execution_count": null,
   "id": "cee6d191",
   "metadata": {},
   "outputs": [],
   "source": []
  },
  {
   "cell_type": "code",
   "execution_count": 47,
   "id": "b93bb587",
   "metadata": {},
   "outputs": [
    {
     "data": {
      "text/plain": [
       "'today   is  Friday'"
      ]
     },
     "execution_count": 47,
     "metadata": {},
     "output_type": "execute_result"
    }
   ],
   "source": [
    "\"  today   is  Friday    \".strip()"
   ]
  },
  {
   "cell_type": "code",
   "execution_count": null,
   "id": "5408a9f9",
   "metadata": {},
   "outputs": [],
   "source": []
  },
  {
   "cell_type": "code",
   "execution_count": null,
   "id": "f673500b",
   "metadata": {},
   "outputs": [],
   "source": []
  },
  {
   "cell_type": "markdown",
   "id": "08965ea6",
   "metadata": {},
   "source": [
    "<b>Question: There is a String s_num = \"   5   6   ,  99   7.3   1.4    \" ,  remove the comma and seprate these characters into words then convert characters to numbers, and append to an empty list</b>"
   ]
  },
  {
   "cell_type": "code",
   "execution_count": null,
   "id": "9098e680",
   "metadata": {},
   "outputs": [],
   "source": []
  },
  {
   "cell_type": "code",
   "execution_count": null,
   "id": "1c3e5a90",
   "metadata": {},
   "outputs": [],
   "source": []
  },
  {
   "cell_type": "code",
   "execution_count": null,
   "id": "1568dce4",
   "metadata": {},
   "outputs": [],
   "source": []
  },
  {
   "cell_type": "code",
   "execution_count": null,
   "id": "bea4b97c",
   "metadata": {},
   "outputs": [],
   "source": []
  },
  {
   "cell_type": "code",
   "execution_count": null,
   "id": "1356cc0c",
   "metadata": {},
   "outputs": [],
   "source": []
  },
  {
   "cell_type": "markdown",
   "id": "a7894d0f",
   "metadata": {},
   "source": [
    "# Tuple"
   ]
  },
  {
   "cell_type": "markdown",
   "id": "cfc34201",
   "metadata": {},
   "source": [
    "(element0, element1, element2)"
   ]
  },
  {
   "cell_type": "code",
   "execution_count": 73,
   "id": "57534737",
   "metadata": {},
   "outputs": [],
   "source": [
    "empty_tuple = ()\n",
    "test1 = (\"a\")\n",
    "test2 = (\"a\", \"b\")\n",
    "test3 = (\"a\", \"b\", \"c\")"
   ]
  },
  {
   "cell_type": "code",
   "execution_count": 74,
   "id": "0ab84fb2",
   "metadata": {},
   "outputs": [
    {
     "name": "stdout",
     "output_type": "stream",
     "text": [
      "()\n",
      "a\n",
      "('a', 'b')\n",
      "('a', 'b', 'c')\n"
     ]
    }
   ],
   "source": [
    "print(empty_tuple)\n",
    "print(test1)   ###  ????\n",
    "print(test2)\n",
    "print(test3)"
   ]
  },
  {
   "cell_type": "code",
   "execution_count": 75,
   "id": "0e8a7fca",
   "metadata": {},
   "outputs": [
    {
     "name": "stdout",
     "output_type": "stream",
     "text": [
      "<class 'tuple'>\n",
      "<class 'str'>\n",
      "<class 'tuple'>\n",
      "<class 'tuple'>\n"
     ]
    }
   ],
   "source": [
    "print(type(empty_tuple))\n",
    "print(type(test1))\n",
    "print(type(test2))\n",
    "print(type(test3))"
   ]
  },
  {
   "cell_type": "code",
   "execution_count": 77,
   "id": "0ad546f3",
   "metadata": {},
   "outputs": [
    {
     "name": "stdout",
     "output_type": "stream",
     "text": [
      "<class 'tuple'>\n",
      "('a',)\n"
     ]
    }
   ],
   "source": [
    "test1 = (\"a\",)\n",
    "print(type(test1))\n",
    "print(test1)"
   ]
  },
  {
   "cell_type": "code",
   "execution_count": 79,
   "id": "b015ae94",
   "metadata": {},
   "outputs": [],
   "source": [
    "# (age, county, know_python)\n",
    "person1 = (27, \"Vietnam\", True)\n",
    "person2 = (21, \"Switzerland\", False)"
   ]
  },
  {
   "cell_type": "code",
   "execution_count": 80,
   "id": "88852de9",
   "metadata": {},
   "outputs": [
    {
     "name": "stdout",
     "output_type": "stream",
     "text": [
      "27\n",
      "Vietnam\n",
      "True\n"
     ]
    }
   ],
   "source": [
    "age1 = person1[0]\n",
    "country1 = person1[1]\n",
    "know_python = person1[2]\n",
    "\n",
    "print(age1)\n",
    "print(country1)\n",
    "print(know_python)"
   ]
  },
  {
   "cell_type": "code",
   "execution_count": 85,
   "id": "adf34276",
   "metadata": {},
   "outputs": [
    {
     "data": {
      "text/plain": [
       "27"
      ]
     },
     "execution_count": 85,
     "metadata": {},
     "output_type": "execute_result"
    }
   ],
   "source": [
    "person1[0]"
   ]
  },
  {
   "cell_type": "code",
   "execution_count": 88,
   "id": "a7cc2568",
   "metadata": {},
   "outputs": [
    {
     "ename": "TypeError",
     "evalue": "'tuple' object does not support item assignment",
     "output_type": "error",
     "traceback": [
      "\u001b[1;31m---------------------------------------------------------------------------\u001b[0m",
      "\u001b[1;31mTypeError\u001b[0m                                 Traceback (most recent call last)",
      "\u001b[1;32m~\\AppData\\Local\\Temp/ipykernel_23460/3681719482.py\u001b[0m in \u001b[0;36m<module>\u001b[1;34m\u001b[0m\n\u001b[1;32m----> 1\u001b[1;33m \u001b[0mperson1\u001b[0m\u001b[1;33m[\u001b[0m\u001b[1;36m0\u001b[0m\u001b[1;33m]\u001b[0m \u001b[1;33m=\u001b[0m \u001b[1;36m26\u001b[0m    \u001b[1;31m# could not change the item value\u001b[0m\u001b[1;33m\u001b[0m\u001b[1;33m\u001b[0m\u001b[0m\n\u001b[0m",
      "\u001b[1;31mTypeError\u001b[0m: 'tuple' object does not support item assignment"
     ]
    }
   ],
   "source": [
    "person1[0] = 26    # could not change the item value"
   ]
  },
  {
   "cell_type": "markdown",
   "id": "d5551fac",
   "metadata": {},
   "source": [
    "<b>Question: define two tupple variables named person1 and person2, fowwloing age, county, know_python, hobby  \n",
    "    17, \"Vietnam\", False, football  \n",
    "    21, \"Switzerland\", True, Vollaball  \n",
    "</b>"
   ]
  },
  {
   "cell_type": "code",
   "execution_count": 81,
   "id": "1966752a",
   "metadata": {},
   "outputs": [],
   "source": [
    "age, country, know_python = person2"
   ]
  },
  {
   "cell_type": "code",
   "execution_count": 82,
   "id": "d89ac0b1",
   "metadata": {},
   "outputs": [
    {
     "name": "stdout",
     "output_type": "stream",
     "text": [
      "21\n",
      "Switzerland\n",
      "False\n"
     ]
    }
   ],
   "source": [
    "print(age)\n",
    "print(country)\n",
    "print(know_python)"
   ]
  },
  {
   "cell_type": "code",
   "execution_count": null,
   "id": "d2335ca6",
   "metadata": {},
   "outputs": [],
   "source": []
  },
  {
   "cell_type": "code",
   "execution_count": 69,
   "id": "394505c7",
   "metadata": {},
   "outputs": [],
   "source": [
    "# list example\n",
    "prime_number = [2,3,5,7,11,13,17]\n",
    "\n",
    "# Tuple example\n",
    "perfect_squares = (2,3,5,7,11,13,17)"
   ]
  },
  {
   "cell_type": "code",
   "execution_count": 70,
   "id": "b99ebd02",
   "metadata": {},
   "outputs": [
    {
     "name": "stdout",
     "output_type": "stream",
     "text": [
      " # of lst =  7\n",
      " # of tupple =  7\n"
     ]
    }
   ],
   "source": [
    "#  Display lengths\n",
    "print(\" # of lst = \", len(prime_number))\n",
    "print(\" # of tupple = \", len(perfect_squares))"
   ]
  },
  {
   "cell_type": "code",
   "execution_count": 71,
   "id": "dc71ade4",
   "metadata": {},
   "outputs": [
    {
     "name": "stdout",
     "output_type": "stream",
     "text": [
      "2\n",
      "3\n",
      "5\n",
      "7\n",
      "11\n",
      "13\n",
      "17\n"
     ]
    }
   ],
   "source": [
    "for prime in prime_number:\n",
    "    print(prime)"
   ]
  },
  {
   "cell_type": "code",
   "execution_count": 72,
   "id": "47390f03",
   "metadata": {},
   "outputs": [
    {
     "name": "stdout",
     "output_type": "stream",
     "text": [
      "list methods:\n",
      "['__add__', '__class__', '__class_getitem__', '__contains__', '__delattr__', '__delitem__', '__dir__', '__doc__', '__eq__', '__format__', '__ge__', '__getattribute__', '__getitem__', '__gt__', '__hash__', '__iadd__', '__imul__', '__init__', '__init_subclass__', '__iter__', '__le__', '__len__', '__lt__', '__mul__', '__ne__', '__new__', '__reduce__', '__reduce_ex__', '__repr__', '__reversed__', '__rmul__', '__setattr__', '__setitem__', '__sizeof__', '__str__', '__subclasshook__', 'append', 'clear', 'copy', 'count', 'extend', 'index', 'insert', 'pop', 'remove', 'reverse', 'sort']\n",
      "------------------------------------------------------------------------------\n",
      "tuple methods\n",
      "['__add__', '__class__', '__class_getitem__', '__contains__', '__delattr__', '__dir__', '__doc__', '__eq__', '__format__', '__ge__', '__getattribute__', '__getitem__', '__getnewargs__', '__gt__', '__hash__', '__init__', '__init_subclass__', '__iter__', '__le__', '__len__', '__lt__', '__mul__', '__ne__', '__new__', '__reduce__', '__reduce_ex__', '__repr__', '__rmul__', '__setattr__', '__sizeof__', '__str__', '__subclasshook__', 'count', 'index']\n"
     ]
    }
   ],
   "source": [
    "print(\"list methods:\")\n",
    "print(dir(prime_number))\n",
    "\n",
    "print(78*'-')\n",
    "\n",
    "print(\"tuple methods\")\n",
    "print(dir(perfect_squares))"
   ]
  },
  {
   "cell_type": "code",
   "execution_count": null,
   "id": "27842240",
   "metadata": {},
   "outputs": [],
   "source": []
  },
  {
   "cell_type": "code",
   "execution_count": null,
   "id": "6d55060b",
   "metadata": {},
   "outputs": [],
   "source": []
  },
  {
   "cell_type": "code",
   "execution_count": null,
   "id": "1401031f",
   "metadata": {},
   "outputs": [],
   "source": []
  },
  {
   "cell_type": "code",
   "execution_count": null,
   "id": "fdcf32ce",
   "metadata": {},
   "outputs": [],
   "source": []
  },
  {
   "cell_type": "markdown",
   "id": "6146b80c",
   "metadata": {},
   "source": [
    "# Set"
   ]
  },
  {
   "cell_type": "markdown",
   "id": "e3e90888",
   "metadata": {},
   "source": [
    "{element, element, element}"
   ]
  },
  {
   "cell_type": "code",
   "execution_count": 89,
   "id": "38c46cf4",
   "metadata": {},
   "outputs": [
    {
     "data": {
      "text/plain": [
       "True"
      ]
     },
     "execution_count": 89,
     "metadata": {},
     "output_type": "execute_result"
    }
   ],
   "source": [
    "{-1, 3, 5, 6, 7, 12} == {3, -1, 5, 6, 7, 12}    # order does not matter"
   ]
  },
  {
   "cell_type": "code",
   "execution_count": 91,
   "id": "0ddec72d",
   "metadata": {},
   "outputs": [
    {
     "data": {
      "text/plain": [
       "True"
      ]
     },
     "execution_count": 91,
     "metadata": {},
     "output_type": "execute_result"
    }
   ],
   "source": [
    "{-1, 3, 5, 6, 7, 12} == {3, -1, 5, 6, 7, 12, 3}  # only cares about existing, not care about number when num>1"
   ]
  },
  {
   "cell_type": "code",
   "execution_count": 92,
   "id": "df6b7620",
   "metadata": {},
   "outputs": [],
   "source": [
    "s= set()"
   ]
  },
  {
   "cell_type": "code",
   "execution_count": 93,
   "id": "227bc958",
   "metadata": {},
   "outputs": [
    {
     "name": "stdout",
     "output_type": "stream",
     "text": [
      "set()\n",
      "<class 'set'>\n"
     ]
    }
   ],
   "source": [
    "print(s)\n",
    "print(type(s))"
   ]
  },
  {
   "cell_type": "code",
   "execution_count": 95,
   "id": "7fd6bd40",
   "metadata": {},
   "outputs": [
    {
     "data": {
      "text/plain": [
       "{-1, 3, 5, 6, 7, 12}"
      ]
     },
     "execution_count": 95,
     "metadata": {},
     "output_type": "execute_result"
    }
   ],
   "source": [
    "lst = [5, 3, 12, -1, 5, 7, 6, 6]\n",
    "s = set(lst)\n",
    "s"
   ]
  },
  {
   "cell_type": "code",
   "execution_count": 98,
   "id": "a1500d5c",
   "metadata": {},
   "outputs": [
    {
     "name": "stdout",
     "output_type": "stream",
     "text": [
      "{}\n",
      "<class 'dict'>\n"
     ]
    }
   ],
   "source": [
    "s = {}       # You can not define empty set like this, it is dictionary\n",
    "print(s)\n",
    "print(type(s))"
   ]
  },
  {
   "cell_type": "code",
   "execution_count": 100,
   "id": "09d954fa",
   "metadata": {},
   "outputs": [
    {
     "name": "stdout",
     "output_type": "stream",
     "text": [
      "{'apple', 'orange', 'pear', 'banana'}\n",
      "<class 'set'>\n"
     ]
    }
   ],
   "source": [
    "fruits = {\"apple\", \"banana\", \"pear\", \"orange\"}\n",
    "print(fruits)\n",
    "print(type(fruits))"
   ]
  },
  {
   "cell_type": "code",
   "execution_count": 101,
   "id": "c3b967b1",
   "metadata": {},
   "outputs": [
    {
     "name": "stdout",
     "output_type": "stream",
     "text": [
      "{0, 1, 2, 3, 4, 5}\n"
     ]
    }
   ],
   "source": [
    "A = {1,3,5}\n",
    "B = {0,2,4}\n",
    "print(A|B)"
   ]
  },
  {
   "cell_type": "code",
   "execution_count": 102,
   "id": "4f084522",
   "metadata": {},
   "outputs": [
    {
     "name": "stdout",
     "output_type": "stream",
     "text": [
      "{2, 4}\n"
     ]
    }
   ],
   "source": [
    "A = {1,3,5,2,4}\n",
    "B = {0,2,4}\n",
    "print(A&B)"
   ]
  },
  {
   "cell_type": "code",
   "execution_count": 103,
   "id": "5ce6246b",
   "metadata": {},
   "outputs": [
    {
     "name": "stdout",
     "output_type": "stream",
     "text": [
      "{1, 3, 5}\n"
     ]
    }
   ],
   "source": [
    "A = {1,3,5,2,4}\n",
    "B = {0,2,4}\n",
    "print(A-B)"
   ]
  },
  {
   "cell_type": "markdown",
   "id": "7b7f57ce",
   "metadata": {},
   "source": [
    "<b>Question:  \n",
    "    1) define a set named s1 with elements from list [2,4,3,5,3,4,7,12]    \n",
    "       define another set named s2 with elements:3,4,12   \n",
    "    2) get the union of set s1 and set s2   \n",
    "    3) get the intersection of set s1 and set s2  \n",
    "    4) get the difference of set s2 and set s1   \n",
    "</b>"
   ]
  },
  {
   "cell_type": "code",
   "execution_count": null,
   "id": "b2687883",
   "metadata": {},
   "outputs": [],
   "source": []
  },
  {
   "cell_type": "code",
   "execution_count": 104,
   "id": "c36cb462",
   "metadata": {},
   "outputs": [
    {
     "data": {
      "text/plain": [
       "{4}"
      ]
     },
     "execution_count": 104,
     "metadata": {},
     "output_type": "execute_result"
    }
   ],
   "source": [
    "s1 = {4}\n",
    "s1"
   ]
  },
  {
   "cell_type": "code",
   "execution_count": 105,
   "id": "e69d75a6",
   "metadata": {},
   "outputs": [
    {
     "data": {
      "text/plain": [
       "{3, 4}"
      ]
     },
     "execution_count": 105,
     "metadata": {},
     "output_type": "execute_result"
    }
   ],
   "source": [
    "# add one element 3 to the set s1\n",
    "s1.add(3)\n",
    "s1"
   ]
  },
  {
   "cell_type": "code",
   "execution_count": null,
   "id": "d572e701",
   "metadata": {},
   "outputs": [],
   "source": []
  },
  {
   "cell_type": "code",
   "execution_count": 106,
   "id": "e9a57c1f",
   "metadata": {},
   "outputs": [
    {
     "name": "stdout",
     "output_type": "stream",
     "text": [
      "apple\n",
      "orange\n",
      "banana\n"
     ]
    }
   ],
   "source": [
    "# define a set named fruits: apple, orange,banana\n",
    "# print out all the elements using for loop\n",
    "fruits = {\"apple\", \"orange\", \"banana\"}\n",
    "for ele in fruits:\n",
    "    print(ele)"
   ]
  },
  {
   "cell_type": "markdown",
   "id": "5335ea35",
   "metadata": {},
   "source": [
    "<b>Question: print out all the elements using for loop except apple from fruits = {\"apple\", \"orange\", \"banana\"}"
   ]
  },
  {
   "cell_type": "code",
   "execution_count": null,
   "id": "03debddc",
   "metadata": {},
   "outputs": [],
   "source": []
  },
  {
   "cell_type": "code",
   "execution_count": null,
   "id": "1b350b4b",
   "metadata": {},
   "outputs": [],
   "source": []
  },
  {
   "cell_type": "markdown",
   "id": "84ee95b7",
   "metadata": {},
   "source": [
    "<b>Question: how to do some operations on each element of a set?  \n",
    "    s1 = {2,5,3,4}    \n",
    "    add 2 to each element of the set s1\n",
    "</b>"
   ]
  },
  {
   "cell_type": "code",
   "execution_count": null,
   "id": "a73981ed",
   "metadata": {},
   "outputs": [],
   "source": []
  },
  {
   "cell_type": "code",
   "execution_count": null,
   "id": "d7f658ea",
   "metadata": {},
   "outputs": [],
   "source": []
  },
  {
   "cell_type": "code",
   "execution_count": null,
   "id": "f0ee8bd0",
   "metadata": {},
   "outputs": [],
   "source": []
  },
  {
   "cell_type": "code",
   "execution_count": null,
   "id": "82c994ef",
   "metadata": {},
   "outputs": [],
   "source": []
  },
  {
   "cell_type": "code",
   "execution_count": null,
   "id": "36d38bd7",
   "metadata": {},
   "outputs": [],
   "source": []
  },
  {
   "cell_type": "code",
   "execution_count": null,
   "id": "0d4780c4",
   "metadata": {},
   "outputs": [],
   "source": []
  },
  {
   "cell_type": "markdown",
   "id": "2715a995",
   "metadata": {},
   "source": [
    "# Dictionary"
   ]
  },
  {
   "cell_type": "markdown",
   "id": "711b52a9",
   "metadata": {},
   "source": [
    "{key1:value1, key2:value2, key3:value3, key4:value4}  \n",
    "key: uniq"
   ]
  },
  {
   "cell_type": "markdown",
   "id": "3c0f6ea2",
   "metadata": {},
   "source": [
    "key: country name  \n",
    "value: captial\n",
    "dic: USA: Washington DC  \n",
    "     Guyana: Georgetown  \n",
    "     France: Pairs"
   ]
  },
  {
   "cell_type": "code",
   "execution_count": 83,
   "id": "5f441286",
   "metadata": {},
   "outputs": [
    {
     "data": {
      "text/plain": [
       "{'USA': 'Washington DC', 'Guyana': 'Georgetown', 'France': 'Pairs'}"
      ]
     },
     "execution_count": 83,
     "metadata": {},
     "output_type": "execute_result"
    }
   ],
   "source": [
    "d = {\"USA\": \"Washington DC\", \"Guyana\":\"Georgetown\", \"France\": \"Pairs\"}\n",
    "d"
   ]
  },
  {
   "cell_type": "markdown",
   "id": "fe60dbd2",
   "metadata": {},
   "source": [
    "<b>Question:  \n",
    "    define a dictionary named is student_id, including <id:name>:     \n",
    "    01: Bob  \n",
    "    02: John  \n",
    "    03: Jack  \n",
    "    04: Jenifer "
   ]
  },
  {
   "cell_type": "code",
   "execution_count": null,
   "id": "9e17e988",
   "metadata": {},
   "outputs": [],
   "source": []
  },
  {
   "cell_type": "code",
   "execution_count": 107,
   "id": "2868d214",
   "metadata": {},
   "outputs": [
    {
     "data": {
      "text/plain": [
       "'Washington DC'"
      ]
     },
     "execution_count": 107,
     "metadata": {},
     "output_type": "execute_result"
    }
   ],
   "source": [
    "d[\"USA\"]"
   ]
  },
  {
   "cell_type": "code",
   "execution_count": 108,
   "id": "88f0af9b",
   "metadata": {},
   "outputs": [
    {
     "data": {
      "text/plain": [
       "{'USA': 'Washington DC',\n",
       " 'Guyana': 'Georgetown',\n",
       " 'France': 'Pairs',\n",
       " 'China': 'Beijing'}"
      ]
     },
     "execution_count": 108,
     "metadata": {},
     "output_type": "execute_result"
    }
   ],
   "source": [
    "d[\"China\"] = \"Beijing\"\n",
    "d"
   ]
  },
  {
   "cell_type": "markdown",
   "id": "97f5f7af",
   "metadata": {},
   "source": [
    "<b>Question:  \n",
    "    1) difine a dictionary named states<fullname, shortage>    \n",
    "New York: NY  \n",
    "New Jersey: NT   \n",
    "Florida: FL   \n",
    "    2) Correct the value of New Jersey from NT to NJ  \n",
    "    3) Add a new state Alabama: AL  "
   ]
  },
  {
   "cell_type": "code",
   "execution_count": null,
   "id": "28a6a4ba",
   "metadata": {},
   "outputs": [],
   "source": []
  },
  {
   "cell_type": "code",
   "execution_count": 109,
   "id": "f7c4f798",
   "metadata": {},
   "outputs": [
    {
     "data": {
      "text/plain": [
       "dict_keys(['USA', 'Guyana', 'France', 'China'])"
      ]
     },
     "execution_count": 109,
     "metadata": {},
     "output_type": "execute_result"
    }
   ],
   "source": [
    "d.keys()"
   ]
  },
  {
   "cell_type": "code",
   "execution_count": 110,
   "id": "0c95d4b8",
   "metadata": {},
   "outputs": [
    {
     "data": {
      "text/plain": [
       "dict_values(['Washington DC', 'Georgetown', 'Pairs', 'Beijing'])"
      ]
     },
     "execution_count": 110,
     "metadata": {},
     "output_type": "execute_result"
    }
   ],
   "source": [
    "d.values()"
   ]
  },
  {
   "cell_type": "code",
   "execution_count": 111,
   "id": "3eaffde3",
   "metadata": {},
   "outputs": [
    {
     "data": {
      "text/plain": [
       "True"
      ]
     },
     "execution_count": 111,
     "metadata": {},
     "output_type": "execute_result"
    }
   ],
   "source": [
    "\"USA\" in d"
   ]
  },
  {
   "cell_type": "code",
   "execution_count": 112,
   "id": "31827a90",
   "metadata": {},
   "outputs": [
    {
     "data": {
      "text/plain": [
       "True"
      ]
     },
     "execution_count": 112,
     "metadata": {},
     "output_type": "execute_result"
    }
   ],
   "source": [
    "\"USA\" in d.keys()"
   ]
  },
  {
   "cell_type": "code",
   "execution_count": 113,
   "id": "e2111165",
   "metadata": {},
   "outputs": [
    {
     "data": {
      "text/plain": [
       "False"
      ]
     },
     "execution_count": 113,
     "metadata": {},
     "output_type": "execute_result"
    }
   ],
   "source": [
    "\"USA\" in d.values()"
   ]
  },
  {
   "cell_type": "code",
   "execution_count": 114,
   "id": "7d4ec5fb",
   "metadata": {},
   "outputs": [
    {
     "name": "stdout",
     "output_type": "stream",
     "text": [
      "USA Washington DC\n",
      "Guyana Georgetown\n",
      "France Pairs\n",
      "China Beijing\n"
     ]
    }
   ],
   "source": [
    "for key, value in d.items():\n",
    "    print(key, value)"
   ]
  },
  {
   "cell_type": "markdown",
   "id": "7be11f81",
   "metadata": {},
   "source": [
    "<b>Question:   \n",
    "    1) define a dictionary named fruit_amount   \n",
    "\"apple\": 5  \n",
    "\"banana\": 6  \n",
    "\"orange\": 7  \n",
    "2) use for loop \n",
    "the price of one fruit is 2, \n",
    "get the price of each fruit \n",
    "and put the price as the value of the dictionary   \n",
    "3) use for loop \n",
    "the price of one fruit is 2 except apple is 3, \n",
    "get the price of each fruit \n",
    "and put the price as the value of the dictionary"
   ]
  },
  {
   "cell_type": "markdown",
   "id": "96c07ecd",
   "metadata": {},
   "source": [
    "# Numpy"
   ]
  },
  {
   "cell_type": "code",
   "execution_count": 119,
   "id": "c94f80a7",
   "metadata": {},
   "outputs": [],
   "source": [
    "import numpy as np"
   ]
  },
  {
   "cell_type": "code",
   "execution_count": 126,
   "id": "e41b400f",
   "metadata": {},
   "outputs": [
    {
     "data": {
      "text/plain": [
       "array([0, 0, 0, 0, 0])"
      ]
     },
     "execution_count": 126,
     "metadata": {},
     "output_type": "execute_result"
    }
   ],
   "source": [
    "a = np.array([0]*5)\n",
    "a"
   ]
  },
  {
   "cell_type": "code",
   "execution_count": 128,
   "id": "37a46e79",
   "metadata": {},
   "outputs": [
    {
     "data": {
      "text/plain": [
       "array([0. , 2. , 3. , 4.1])"
      ]
     },
     "execution_count": 128,
     "metadata": {},
     "output_type": "execute_result"
    }
   ],
   "source": [
    "a = np.array([0, 2, 3, 4.1])\n",
    "a"
   ]
  },
  {
   "cell_type": "code",
   "execution_count": 129,
   "id": "d376fab0",
   "metadata": {},
   "outputs": [
    {
     "data": {
      "text/plain": [
       "array(['0', 'eng102', '3', '4.1'], dtype='<U32')"
      ]
     },
     "execution_count": 129,
     "metadata": {},
     "output_type": "execute_result"
    }
   ],
   "source": [
    "a = np.array([0, \"eng102\", 3, 4.1])   #### not normal to use\n",
    "a"
   ]
  },
  {
   "cell_type": "code",
   "execution_count": 152,
   "id": "df421782",
   "metadata": {},
   "outputs": [
    {
     "data": {
      "text/plain": [
       "array([[0., 0., 0., 0., 0.],\n",
       "       [0., 0., 0., 0., 0.],\n",
       "       [0., 0., 0., 0., 0.],\n",
       "       [0., 0., 0., 0., 0.]])"
      ]
     },
     "execution_count": 152,
     "metadata": {},
     "output_type": "execute_result"
    }
   ],
   "source": [
    "a = np.zeros((4,5))\n",
    "a"
   ]
  },
  {
   "cell_type": "code",
   "execution_count": 153,
   "id": "b4e9cecc",
   "metadata": {},
   "outputs": [
    {
     "data": {
      "text/plain": [
       "array([[1., 0., 0., 0., 0.],\n",
       "       [0., 0., 0., 0., 0.],\n",
       "       [0., 0., 0., 0., 0.],\n",
       "       [0., 0., 0., 0., 0.]])"
      ]
     },
     "execution_count": 153,
     "metadata": {},
     "output_type": "execute_result"
    }
   ],
   "source": [
    "a[0][0] = 1\n",
    "a"
   ]
  },
  {
   "cell_type": "code",
   "execution_count": 154,
   "id": "512f053c",
   "metadata": {},
   "outputs": [
    {
     "data": {
      "text/plain": [
       "array([[1., 1., 1., 1., 1.],\n",
       "       [1., 1., 1., 1., 1.],\n",
       "       [1., 1., 1., 1., 1.],\n",
       "       [1., 1., 1., 1., 1.]])"
      ]
     },
     "execution_count": 154,
     "metadata": {},
     "output_type": "execute_result"
    }
   ],
   "source": [
    "a = np.ones((4,5))\n",
    "a"
   ]
  },
  {
   "cell_type": "code",
   "execution_count": null,
   "id": "4d715524",
   "metadata": {},
   "outputs": [],
   "source": []
  },
  {
   "cell_type": "code",
   "execution_count": 122,
   "id": "553aa554",
   "metadata": {},
   "outputs": [
    {
     "data": {
      "text/plain": [
       "0"
      ]
     },
     "execution_count": 122,
     "metadata": {},
     "output_type": "execute_result"
    }
   ],
   "source": [
    "a[0]"
   ]
  },
  {
   "cell_type": "code",
   "execution_count": 123,
   "id": "ff2e6b25",
   "metadata": {},
   "outputs": [
    {
     "data": {
      "text/plain": [
       "array([0, 1, 0, 0, 0])"
      ]
     },
     "execution_count": 123,
     "metadata": {},
     "output_type": "execute_result"
    }
   ],
   "source": [
    "a[1] = 1\n",
    "a"
   ]
  },
  {
   "cell_type": "code",
   "execution_count": 125,
   "id": "9ab96ea5",
   "metadata": {},
   "outputs": [
    {
     "name": "stdout",
     "output_type": "stream",
     "text": [
      "1 (5,)\n"
     ]
    }
   ],
   "source": [
    "print(a.ndim, a.shape)"
   ]
  },
  {
   "cell_type": "code",
   "execution_count": 131,
   "id": "51a42bc7",
   "metadata": {},
   "outputs": [
    {
     "data": {
      "text/plain": [
       "array([[1, 2, 3, 4],\n",
       "       [5, 6, 7, 8]])"
      ]
     },
     "execution_count": 131,
     "metadata": {},
     "output_type": "execute_result"
    }
   ],
   "source": [
    "a = np.array([[1, 2, 3, 4], [5, 6, 7, 8]])\n",
    "a"
   ]
  },
  {
   "cell_type": "code",
   "execution_count": 132,
   "id": "0c42e440",
   "metadata": {},
   "outputs": [
    {
     "name": "stdout",
     "output_type": "stream",
     "text": [
      "2 (2, 4)\n"
     ]
    }
   ],
   "source": [
    "print(a.ndim, a.shape)"
   ]
  },
  {
   "cell_type": "code",
   "execution_count": 133,
   "id": "85a0602a",
   "metadata": {},
   "outputs": [
    {
     "data": {
      "text/plain": [
       "array([[[1, 2, 3, 4],\n",
       "        [5, 6, 7, 8]]])"
      ]
     },
     "execution_count": 133,
     "metadata": {},
     "output_type": "execute_result"
    }
   ],
   "source": [
    "a = np.array([[[1, 2, 3, 4], [5, 6, 7, 8]]])\n",
    "a"
   ]
  },
  {
   "cell_type": "code",
   "execution_count": 134,
   "id": "d2ef9a3d",
   "metadata": {},
   "outputs": [
    {
     "name": "stdout",
     "output_type": "stream",
     "text": [
      "3 (1, 2, 4)\n"
     ]
    }
   ],
   "source": [
    "print(a.ndim, a.shape)"
   ]
  },
  {
   "cell_type": "code",
   "execution_count": 142,
   "id": "d2bb0d31",
   "metadata": {},
   "outputs": [
    {
     "data": {
      "text/plain": [
       "array([[1, 2, 3, 4],\n",
       "       [5, 6, 7, 8]])"
      ]
     },
     "execution_count": 142,
     "metadata": {},
     "output_type": "execute_result"
    }
   ],
   "source": [
    "a = np.array([[1, 2, 3, 4], [5, 6, 7, 8]])\n",
    "a"
   ]
  },
  {
   "cell_type": "code",
   "execution_count": 143,
   "id": "e85262d7",
   "metadata": {},
   "outputs": [
    {
     "data": {
      "text/plain": [
       "array([5, 6, 7, 8])"
      ]
     },
     "execution_count": 143,
     "metadata": {},
     "output_type": "execute_result"
    }
   ],
   "source": [
    "a[1]"
   ]
  },
  {
   "cell_type": "code",
   "execution_count": 144,
   "id": "fb3a2a77",
   "metadata": {},
   "outputs": [
    {
     "data": {
      "text/plain": [
       "7"
      ]
     },
     "execution_count": 144,
     "metadata": {},
     "output_type": "execute_result"
    }
   ],
   "source": [
    "a[1][2]"
   ]
  },
  {
   "cell_type": "code",
   "execution_count": 150,
   "id": "aa3c9e59",
   "metadata": {},
   "outputs": [
    {
     "data": {
      "text/plain": [
       "array([0., 3., 7.])"
      ]
     },
     "execution_count": 150,
     "metadata": {},
     "output_type": "execute_result"
    }
   ],
   "source": [
    "a = np.array([0, 2, 3, 4, 7, 10, -3, 6])\n",
    "a[0:5:2]"
   ]
  },
  {
   "cell_type": "code",
   "execution_count": 151,
   "id": "ec04a2e3",
   "metadata": {},
   "outputs": [
    {
     "data": {
      "text/plain": [
       "array([ 0,  1,  2,  3,  4,  5,  6,  7,  8,  9, 10, 11, 12, 13, 14, 15, 16,\n",
       "       17, 18, 19, 20, 21, 22, 23, 24, 25, 26, 27, 28, 29, 30, 31, 32, 33,\n",
       "       34, 35, 36, 37, 38, 39, 40, 41, 42, 43, 44, 45, 46, 47, 48, 49, 50,\n",
       "       51, 52, 53, 54, 55, 56, 57, 58, 59, 60, 61, 62, 63, 64, 65, 66, 67,\n",
       "       68, 69, 70, 71, 72, 73, 74, 75, 76, 77, 78, 79, 80, 81, 82, 83, 84,\n",
       "       85, 86, 87, 88, 89, 90, 91, 92, 93, 94, 95, 96, 97, 98, 99])"
      ]
     },
     "execution_count": 151,
     "metadata": {},
     "output_type": "execute_result"
    }
   ],
   "source": [
    "np.array(range(100))"
   ]
  },
  {
   "cell_type": "code",
   "execution_count": 167,
   "id": "f8e88a8b",
   "metadata": {},
   "outputs": [
    {
     "data": {
      "text/plain": [
       "array([1, 3, 5, 7, 9])"
      ]
     },
     "execution_count": 167,
     "metadata": {},
     "output_type": "execute_result"
    }
   ],
   "source": [
    "a = np.arange(1, 10, 2)\n",
    "a"
   ]
  },
  {
   "cell_type": "code",
   "execution_count": 168,
   "id": "162a34ef",
   "metadata": {},
   "outputs": [
    {
     "data": {
      "text/plain": [
       "array([ 3,  5,  7,  9, 11])"
      ]
     },
     "execution_count": 168,
     "metadata": {},
     "output_type": "execute_result"
    }
   ],
   "source": [
    "a = a+2\n",
    "a"
   ]
  },
  {
   "cell_type": "code",
   "execution_count": 169,
   "id": "de868660",
   "metadata": {},
   "outputs": [
    {
     "data": {
      "text/plain": [
       "11"
      ]
     },
     "execution_count": 169,
     "metadata": {},
     "output_type": "execute_result"
    }
   ],
   "source": [
    "a.max()"
   ]
  },
  {
   "cell_type": "code",
   "execution_count": null,
   "id": "5e0f432b",
   "metadata": {},
   "outputs": [],
   "source": []
  },
  {
   "cell_type": "code",
   "execution_count": null,
   "id": "7745f85e",
   "metadata": {},
   "outputs": [],
   "source": []
  },
  {
   "cell_type": "markdown",
   "id": "ac6df8a7",
   "metadata": {},
   "source": [
    "<b>Question: \n",
    "    Array is similar with list, how can I get the last 20 numbers of the above array? Using slicing method"
   ]
  },
  {
   "cell_type": "code",
   "execution_count": null,
   "id": "e0672080",
   "metadata": {},
   "outputs": [],
   "source": []
  },
  {
   "cell_type": "markdown",
   "id": "52732414",
   "metadata": {},
   "source": [
    "<b>Question:   \n",
    "    1) make an array named <i>arr</i> which ranges from 3 to 300, all the elements in tha array are the multiple of 3.   \n",
    "    2) Now times 2 for each element   \n",
    "    3) Then check the step 2 result, if the value is also multiple of 7, append to an empty list <i>lst</i>   \n",
    "    4) Get the standard deviation of <i>arr</i>  "
   ]
  },
  {
   "cell_type": "code",
   "execution_count": 170,
   "id": "7758c586",
   "metadata": {},
   "outputs": [
    {
     "data": {
      "text/plain": [
       "(8,)"
      ]
     },
     "execution_count": 170,
     "metadata": {},
     "output_type": "execute_result"
    }
   ],
   "source": [
    "a = np.array([0, 2, 3, 4, 7, 10, -3, 6])\n",
    "a.shape"
   ]
  },
  {
   "cell_type": "code",
   "execution_count": 171,
   "id": "2b7b31cc",
   "metadata": {},
   "outputs": [
    {
     "data": {
      "text/plain": [
       "array([ 0,  2,  3,  4,  7, 10, -3,  6])"
      ]
     },
     "execution_count": 171,
     "metadata": {},
     "output_type": "execute_result"
    }
   ],
   "source": [
    "a.reshape(2, 4)  # not in place\n",
    "a"
   ]
  },
  {
   "cell_type": "code",
   "execution_count": 172,
   "id": "5dd97984",
   "metadata": {},
   "outputs": [
    {
     "data": {
      "text/plain": [
       "array([[ 0,  2,  3,  4],\n",
       "       [ 7, 10, -3,  6]])"
      ]
     },
     "execution_count": 172,
     "metadata": {},
     "output_type": "execute_result"
    }
   ],
   "source": [
    "a = a.reshape(2, 4)  # not in place\n",
    "a"
   ]
  },
  {
   "cell_type": "code",
   "execution_count": 173,
   "id": "6c05b2be",
   "metadata": {},
   "outputs": [
    {
     "data": {
      "text/plain": [
       "array([[ 0,  2],\n",
       "       [ 3,  4],\n",
       "       [ 7, 10],\n",
       "       [-3,  6]])"
      ]
     },
     "execution_count": 173,
     "metadata": {},
     "output_type": "execute_result"
    }
   ],
   "source": [
    "a = a.reshape(4, -1)  # not in place\n",
    "a"
   ]
  },
  {
   "cell_type": "code",
   "execution_count": 155,
   "id": "c4986c37",
   "metadata": {},
   "outputs": [
    {
     "data": {
      "text/plain": [
       "array([False,  True,  True,  True,  True,  True, False,  True])"
      ]
     },
     "execution_count": 155,
     "metadata": {},
     "output_type": "execute_result"
    }
   ],
   "source": [
    "a = np.array([0, 2, 3, 4, 7, 10, -3, 6])\n",
    "a > 0"
   ]
  },
  {
   "cell_type": "code",
   "execution_count": 157,
   "id": "eefd9c51",
   "metadata": {},
   "outputs": [
    {
     "data": {
      "text/plain": [
       "array([False,  True,  True,  True, False, False, False, False])"
      ]
     },
     "execution_count": 157,
     "metadata": {},
     "output_type": "execute_result"
    }
   ],
   "source": [
    "(a>0) & (a<6)"
   ]
  },
  {
   "cell_type": "code",
   "execution_count": 158,
   "id": "876bd50f",
   "metadata": {},
   "outputs": [
    {
     "data": {
      "text/plain": [
       "array([2, 3, 4])"
      ]
     },
     "execution_count": 158,
     "metadata": {},
     "output_type": "execute_result"
    }
   ],
   "source": [
    "a[(a>0) & (a<6)]"
   ]
  },
  {
   "cell_type": "code",
   "execution_count": 161,
   "id": "3318dae6",
   "metadata": {},
   "outputs": [
    {
     "data": {
      "text/plain": [
       "array([False, False, False, False,  True,  True,  True, False])"
      ]
     },
     "execution_count": 161,
     "metadata": {},
     "output_type": "execute_result"
    }
   ],
   "source": [
    "(a<0) | (a>6)"
   ]
  },
  {
   "cell_type": "code",
   "execution_count": 163,
   "id": "da90dfbe",
   "metadata": {},
   "outputs": [
    {
     "data": {
      "text/plain": [
       "array([ 7, 10, -3])"
      ]
     },
     "execution_count": 163,
     "metadata": {},
     "output_type": "execute_result"
    }
   ],
   "source": [
    "a[(a<0) | (a>6)]"
   ]
  },
  {
   "cell_type": "code",
   "execution_count": null,
   "id": "4380f6e8",
   "metadata": {},
   "outputs": [],
   "source": []
  },
  {
   "cell_type": "markdown",
   "id": "013bb12d",
   "metadata": {},
   "source": [
    "<b>Question:  \n",
    "    make an arr which ranges from 1 to 100    \n",
    "    get all the even numbers with the operations: | and  & "
   ]
  },
  {
   "cell_type": "code",
   "execution_count": null,
   "id": "30e0f935",
   "metadata": {},
   "outputs": [],
   "source": []
  },
  {
   "cell_type": "code",
   "execution_count": null,
   "id": "1ded9bd2",
   "metadata": {},
   "outputs": [],
   "source": []
  },
  {
   "cell_type": "markdown",
   "id": "f2225672",
   "metadata": {},
   "source": [
    "# matplotlib"
   ]
  },
  {
   "cell_type": "code",
   "execution_count": 174,
   "id": "7cadedef",
   "metadata": {},
   "outputs": [],
   "source": [
    "import matplotlib.pyplot as plt"
   ]
  },
  {
   "cell_type": "code",
   "execution_count": 175,
   "id": "99ad4503",
   "metadata": {},
   "outputs": [],
   "source": [
    "a = np.array([0, 2, 2, 6, 7, 10, -10, 6])"
   ]
  },
  {
   "cell_type": "code",
   "execution_count": 177,
   "id": "d786b120",
   "metadata": {},
   "outputs": [
    {
     "data": {
      "text/plain": [
       "(array([1., 0., 0., 0., 0., 1., 2., 0., 3., 1.]),\n",
       " array([-10.,  -8.,  -6.,  -4.,  -2.,   0.,   2.,   4.,   6.,   8.,  10.]),\n",
       " <BarContainer object of 10 artists>)"
      ]
     },
     "execution_count": 177,
     "metadata": {},
     "output_type": "execute_result"
    },
    {
     "data": {
      "image/png": "[encoded data removed]",
      "text/plain": [
       "<Figure size 432x288 with 1 Axes>"
      ]
     },
     "metadata": {
      "needs_background": "light"
     },
     "output_type": "display_data"
    }
   ],
   "source": [
    "plt.hist(a)"
   ]
  },
  {
   "cell_type": "code",
   "execution_count": null,
   "id": "21e02f21",
   "metadata": {},
   "outputs": [],
   "source": []
  }
 ],
 "metadata": {
  "kernelspec": {
   "display_name": "Python 3 (ipykernel)",
   "language": "python",
   "name": "python3"
  },
  "language_info": {
   "codemirror_mode": {
    "name": "ipython",
    "version": 3
   },
   "file_extension": ".py",
   "mimetype": "text/x-python",
   "name": "python",
   "nbconvert_exporter": "python",
   "pygments_lexer": "ipython3",
   "version": "3.9.7"
  }
 },
 "nbformat": 4,
 "nbformat_minor": 5
}
